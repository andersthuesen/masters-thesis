{
 "cells": [
  {
   "cell_type": "code",
   "execution_count": 4,
   "metadata": {},
   "outputs": [],
   "source": [
    "import numpy as np\n",
    "import json\n",
    "import matplotlib.pyplot as plt\n",
    "import matplotlib.animation as animation\n",
    "\n",
    "from src.smpl.model import SMPLModel\n",
    "from src.smpl.render import SMPLRender\n",
    "from cv2 import Rodrigues\n",
    "import pyrender\n",
    "import trimesh\n",
    "from tqdm.notebook import tqdm\n"
   ]
  },
  {
   "cell_type": "code",
   "execution_count": 5,
   "metadata": {},
   "outputs": [],
   "source": [
    "import os\n",
    "os.environ['PYOPENGL_PLATFORM'] = 'egl'"
   ]
  },
  {
   "cell_type": "code",
   "execution_count": 6,
   "metadata": {},
   "outputs": [],
   "source": [
    "smpl_model = SMPLModel(\"models/smpl/basicmodel_neutral_lbs_10_207_0_v1.1.0.pkl\")"
   ]
  },
  {
   "cell_type": "code",
   "execution_count": 7,
   "metadata": {},
   "outputs": [],
   "source": [
    "width, height = 4032, 3040\n",
    "path = \"/data/teton_data/train/aeh/1421622085700_1/2023_05_20/2023_05_20_04_51_05_856_563/\"\n",
    "with open(os.path.join(path, \"smpl_pseudo_gt.json\"), \"r\") as f:\n",
    "    data = json.load(f)\n"
   ]
  },
  {
   "cell_type": "code",
   "execution_count": 8,
   "metadata": {},
   "outputs": [],
   "source": [
    "def create_raymond_lights():\n",
    "    \"\"\"\n",
    "    Return raymond light nodes for the scene.\n",
    "    \"\"\"\n",
    "    thetas = np.pi * np.array([1.0 / 6.0, 1.0 / 6.0, 1.0 / 6.0])\n",
    "    phis = np.pi * np.array([0.0, 2.0 / 3.0, 4.0 / 3.0])\n",
    "\n",
    "    nodes = []\n",
    "\n",
    "    for phi, theta in zip(phis, thetas):\n",
    "        xp = np.sin(theta) * np.cos(phi)\n",
    "        yp = np.sin(theta) * np.sin(phi)\n",
    "        zp = np.cos(theta)\n",
    "\n",
    "        z = np.array([xp, yp, zp])\n",
    "        z = z / np.linalg.norm(z)\n",
    "        x = np.array([-z[1], z[0], 0.0])\n",
    "        if np.linalg.norm(x) == 0:\n",
    "            x = np.array([1.0, 0.0, 0.0])\n",
    "        x = x / np.linalg.norm(x)\n",
    "        y = np.cross(z, x)\n",
    "\n",
    "        matrix = np.eye(4)\n",
    "        matrix[:3,:3] = np.c_[x,y,z]\n",
    "        nodes.append(pyrender.Node(\n",
    "            light=pyrender.DirectionalLight(color=np.ones(3), intensity=1.0),\n",
    "            matrix=matrix\n",
    "        ))\n",
    "\n",
    "    return nodes\n"
   ]
  },
  {
   "cell_type": "code",
   "execution_count": 13,
   "metadata": {},
   "outputs": [],
   "source": [
    "\n",
    "renderer = pyrender.OffscreenRenderer(viewport_width=width, viewport_height=height, point_size=1.0)\n",
    "scene = pyrender.Scene(bg_color=[0.0, 0.0, 0.0, 0.0], ambient_light=(0.3, 0.3, 0.3)) # Transparent background\n",
    "camera_pose = np.eye(4)\n",
    "focal_length_at_256 = 5000\n",
    "focal_length = focal_length_at_256 / 256 * max(width, height)\n",
    "camera = pyrender.IntrinsicsCamera(fx=focal_length, fy=focal_length, cx=width/2, cy=height/2, zfar=1e12)\n",
    "camera_node = pyrender.Node(camera=camera, matrix=camera_pose)\n",
    "\n",
    "light = pyrender.SpotLight(\n",
    "    color=np.ones(3),\n",
    "    intensity=3.0,\n",
    "    innerConeAngle=np.pi / 16,\n",
    "    outerConeAngle=np.pi / 6.0,\n",
    ")\n",
    "light_pose = np.eye(4)\n",
    "light_node = pyrender.Node(light=light, matrix=light_pose)\n",
    "\n",
    "\n",
    "light_nodes = create_raymond_lights()\n",
    "for node in light_nodes: \n",
    "    scene.add_node(node)"
   ]
  },
  {
   "cell_type": "code",
   "execution_count": 17,
   "metadata": {},
   "outputs": [
    {
     "data": {
      "application/vnd.jupyter.widget-view+json": {
       "model_id": "c8cc051bc5a5436980dbb2c4026014b8",
       "version_major": 2,
       "version_minor": 0
      },
      "text/plain": [
       "  0%|          | 0/100 [00:00<?, ?it/s]"
      ]
     },
     "metadata": {},
     "output_type": "display_data"
    }
   ],
   "source": [
    "i = 0\n",
    "\n",
    "for frame_idx in tqdm(range(100)):\n",
    "    frame_id = str(frame_idx)\n",
    "    scene.clear()\n",
    "    scene.add_node(camera_node)\n",
    "    scene.add_node(light_node)\n",
    "\n",
    "    img_path = os.path.join(path, \"images\", \"{}.jpg\".format(frame_idx))\n",
    "    img = plt.imread(img_path)\n",
    "    img = img.copy()\n",
    "\n",
    "    for track_id, track_data in data.items():\n",
    "        if frame_id not in track_data:\n",
    "            # No data for this frame\n",
    "            continue\n",
    "\n",
    "        frame_data = track_data[frame_id]\n",
    "\n",
    "        beta = np.array(frame_data[\"betas\"])\n",
    "        body_pose = np.array(frame_data['body_pose'])\n",
    "        global_orient = np.array(frame_data['global_orient'])\n",
    "        smpl_2d_kpts = np.array(frame_data[\"smpl_2d_kpts\"])\n",
    "        teton_2d_kpts = np.array(frame_data[\"teton_2d_kpts\"])\n",
    "\n",
    "        pred_cam = np.array(frame_data[\"pred_cam\"])\n",
    "        pred_cam_t_full = np.array(frame_data[\"pred_cam_t_full\"])\n",
    "\n",
    "        pose_Rs = np.vstack((global_orient, body_pose))\n",
    "\n",
    "        pose = np.vstack([Rodrigues(R)[0] for R in pose_Rs])\n",
    "\n",
    "\n",
    "        # Update the model and get the vertices\n",
    "        v = smpl_model.set_params(beta=beta, pose=pose)\n",
    "        v_translated = v + pred_cam_t_full\n",
    "\n",
    "        mesh = trimesh.Trimesh(vertices=v_translated, faces=smpl_model.faces)\n",
    "        # Apparently, the code in `render.MTL_yolov7/utils/renderer.py` flips the mesh (hardcoded!?)\n",
    "        # so we will do the same here \n",
    "        rot = trimesh.transformations.rotation_matrix(np.radians(180), [1, 0, 0])\n",
    "        mesh.apply_transform(rot)\n",
    "\n",
    "\n",
    "        # material = pyrender.MetallicRoughnessMaterial(\n",
    "        #     metallicFactor=0.0,\n",
    "        #     alphaMode='OPAQUE',\n",
    "        #     baseColorFactor=(0.65098039,  0.74117647,  0.85882353, 1.0)\n",
    "        # )\n",
    "        \n",
    "        scene.add(pyrender.Mesh.from_trimesh(mesh, smooth=False))\n",
    "\n",
    "        color, rend_depth = renderer.render(scene, flags=pyrender.RenderFlags.RGBA)\n",
    "\n",
    "        \n",
    "        img[color[:,:,3] > 0] = color[color[:,:,3] > 0, :3]\n",
    "\n",
    "    \n",
    "       \n",
    "\n",
    "    #plt.show()\n",
    "    #plt.savefig(f\"out/{i}.png\")\n",
    "    # Save image again\n",
    "    plt.imsave(f\"out/{frame_id}.png\", img)\n",
    "\n",
    "    # if i > 5:\n",
    "    #     break\n",
    "    \n",
    "    # i += 1"
   ]
  },
  {
   "cell_type": "code",
   "execution_count": null,
   "metadata": {},
   "outputs": [],
   "source": []
  }
 ],
 "metadata": {
  "kernelspec": {
   "display_name": "ml",
   "language": "python",
   "name": "python3"
  },
  "language_info": {
   "codemirror_mode": {
    "name": "ipython",
    "version": 3
   },
   "file_extension": ".py",
   "mimetype": "text/x-python",
   "name": "python",
   "nbconvert_exporter": "python",
   "pygments_lexer": "ipython3",
   "version": "3.11.3"
  }
 },
 "nbformat": 4,
 "nbformat_minor": 2
}
